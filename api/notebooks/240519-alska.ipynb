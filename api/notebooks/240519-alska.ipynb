{
 "cells": [
  {
   "cell_type": "code",
   "execution_count": 1,
   "id": "e2a6c520cd890ce8",
   "metadata": {
    "ExecuteTime": {
     "end_time": "2024-05-19T08:29:32.002951Z",
     "start_time": "2024-05-19T08:29:31.990197Z"
    },
    "collapsed": false,
    "jupyter": {
     "outputs_hidden": false
    }
   },
   "outputs": [],
   "source": [
    "%load_ext autoreload\n",
    "%autoreload 2"
   ]
  },
  {
   "cell_type": "code",
   "execution_count": 2,
   "id": "df554704-36d6-4d83-8ad7-7d0d2f1beb8b",
   "metadata": {},
   "outputs": [
    {
     "data": {
      "text/plain": [
       "['/Users/gsg/Workspace/src/WriteNow/api',\n",
       " '/opt/homebrew/Cellar/python@3.11/3.11.8/Frameworks/Python.framework/Versions/3.11/lib/python311.zip',\n",
       " '/opt/homebrew/Cellar/python@3.11/3.11.8/Frameworks/Python.framework/Versions/3.11/lib/python3.11',\n",
       " '/opt/homebrew/Cellar/python@3.11/3.11.8/Frameworks/Python.framework/Versions/3.11/lib/python3.11/lib-dynload',\n",
       " '',\n",
       " '/Users/gsg/Library/Caches/pypoetry/virtualenvs/api-PQsLHg-7-py3.11/lib/python3.11/site-packages']"
      ]
     },
     "execution_count": 2,
     "metadata": {},
     "output_type": "execute_result"
    }
   ],
   "source": [
    "import sys\n",
    "import os\n",
    "sys.path.insert(0, os.path.abspath('..'))\n",
    "sys.path"
   ]
  },
  {
   "cell_type": "code",
   "execution_count": 3,
   "id": "initial_id",
   "metadata": {
    "ExecuteTime": {
     "end_time": "2024-05-19T08:29:32.020521Z",
     "start_time": "2024-05-19T08:29:32.011074Z"
    }
   },
   "outputs": [],
   "source": [
    "import pandas as pd\n",
    "from textwrap import dedent"
   ]
  },
  {
   "cell_type": "code",
   "execution_count": 4,
   "id": "25cfe6e2195c491d",
   "metadata": {
    "ExecuteTime": {
     "end_time": "2024-05-19T08:29:32.070414Z",
     "start_time": "2024-05-19T08:29:32.047348Z"
    },
    "collapsed": false,
    "jupyter": {
     "outputs_hidden": false
    }
   },
   "outputs": [
    {
     "name": "stderr",
     "output_type": "stream",
     "text": [
      "/var/folders/0n/cy053mms5j12szkdzf21ysm40000gn/T/ipykernel_33815/3486125102.py:16: UserWarning: pandas only supports SQLAlchemy connectable (engine/connection) or database string URI or sqlite3 DBAPI2 connection. Other DBAPI2 objects are not tested. Please consider using SQLAlchemy.\n",
      "  data = pd.read_sql(sql, conn)\n"
     ]
    }
   ],
   "source": [
    "from app.preprocessing import dropna\n",
    "from app.database import pool\n",
    "\n",
    "sql = dedent(\"\"\"\\\n",
    "select b.title, bss.score, bss.record_date\n",
    "from books b\n",
    "    join books_in_bookstores bib on b.id = bib.book_id\n",
    "    join book_categories_of_books bcib on b.id = bcib.book_id\n",
    "    join book_categories bc on bcib.category_id = bc.id\n",
    "    join bookstores bs on bib.store_id = bs.id\n",
    "    join book_sales_scores bss on b.id = bss.book_id and bs.id = bss.store_id\n",
    "where bs.alias = 'aladin'\n",
    "  and bc.name = '컴퓨터/모바일'\n",
    "\"\"\")\n",
    "with pool.get_connection() as conn:\n",
    "    data = pd.read_sql(sql, conn)\n",
    "data = dropna(data)"
   ]
  },
  {
   "cell_type": "code",
   "execution_count": 5,
   "id": "206bf6b09c7391c7",
   "metadata": {
    "collapsed": false,
    "jupyter": {
     "outputs_hidden": false
    }
   },
   "outputs": [
    {
     "data": {
      "text/html": [
       "<div>\n",
       "<style scoped>\n",
       "    .dataframe tbody tr th:only-of-type {\n",
       "        vertical-align: middle;\n",
       "    }\n",
       "\n",
       "    .dataframe tbody tr th {\n",
       "        vertical-align: top;\n",
       "    }\n",
       "\n",
       "    .dataframe thead th {\n",
       "        text-align: right;\n",
       "    }\n",
       "</style>\n",
       "<table border=\"1\" class=\"dataframe\">\n",
       "  <thead>\n",
       "    <tr style=\"text-align: right;\">\n",
       "      <th></th>\n",
       "      <th>title</th>\n",
       "      <th>score</th>\n",
       "      <th>record_date</th>\n",
       "    </tr>\n",
       "  </thead>\n",
       "  <tbody>\n",
       "    <tr>\n",
       "      <th>0</th>\n",
       "      <td>비전공자 마케터로 살아남기</td>\n",
       "      <td>492</td>\n",
       "      <td>2024-04-23</td>\n",
       "    </tr>\n",
       "    <tr>\n",
       "      <th>1</th>\n",
       "      <td>어쩌다 마케터를 위한 AI 활용법</td>\n",
       "      <td>72</td>\n",
       "      <td>2024-04-23</td>\n",
       "    </tr>\n",
       "    <tr>\n",
       "      <th>2</th>\n",
       "      <td>이모티콘 작가 되기 with 프로크리에이트</td>\n",
       "      <td>600</td>\n",
       "      <td>2024-04-23</td>\n",
       "    </tr>\n",
       "    <tr>\n",
       "      <th>3</th>\n",
       "      <td>챗GPT 프롬프트 120% 질문 기술</td>\n",
       "      <td>396</td>\n",
       "      <td>2024-04-23</td>\n",
       "    </tr>\n",
       "    <tr>\n",
       "      <th>4</th>\n",
       "      <td>그림으로 이해하는 알고리즘</td>\n",
       "      <td>1068</td>\n",
       "      <td>2024-04-23</td>\n",
       "    </tr>\n",
       "    <tr>\n",
       "      <th>5</th>\n",
       "      <td>대격변 AI 시대, 데이터로 사고하고 데이터로 리드하라</td>\n",
       "      <td>396</td>\n",
       "      <td>2024-04-23</td>\n",
       "    </tr>\n",
       "    <tr>\n",
       "      <th>6</th>\n",
       "      <td>코딩 테스트 합격자 되기 : C++ 편</td>\n",
       "      <td>216</td>\n",
       "      <td>2024-04-23</td>\n",
       "    </tr>\n",
       "    <tr>\n",
       "      <th>7</th>\n",
       "      <td>줄리아 프로그래밍</td>\n",
       "      <td>312</td>\n",
       "      <td>2024-04-23</td>\n",
       "    </tr>\n",
       "    <tr>\n",
       "      <th>8</th>\n",
       "      <td>그리고 싶은 나만의 방과 배경</td>\n",
       "      <td>720</td>\n",
       "      <td>2024-04-23</td>\n",
       "    </tr>\n",
       "    <tr>\n",
       "      <th>9</th>\n",
       "      <td>네이버 스마트스토어 시작하기</td>\n",
       "      <td>1205</td>\n",
       "      <td>2023-06-01</td>\n",
       "    </tr>\n",
       "  </tbody>\n",
       "</table>\n",
       "</div>"
      ],
      "text/plain": [
       "                            title  score record_date\n",
       "0                  비전공자 마케터로 살아남기    492  2024-04-23\n",
       "1              어쩌다 마케터를 위한 AI 활용법     72  2024-04-23\n",
       "2         이모티콘 작가 되기 with 프로크리에이트    600  2024-04-23\n",
       "3            챗GPT 프롬프트 120% 질문 기술    396  2024-04-23\n",
       "4                  그림으로 이해하는 알고리즘   1068  2024-04-23\n",
       "5  대격변 AI 시대, 데이터로 사고하고 데이터로 리드하라    396  2024-04-23\n",
       "6           코딩 테스트 합격자 되기 : C++ 편    216  2024-04-23\n",
       "7                       줄리아 프로그래밍    312  2024-04-23\n",
       "8                그리고 싶은 나만의 방과 배경    720  2024-04-23\n",
       "9                 네이버 스마트스토어 시작하기   1205  2023-06-01"
      ]
     },
     "execution_count": 5,
     "metadata": {},
     "output_type": "execute_result"
    }
   ],
   "source": [
    "from app.preprocessing import without_outlier_over_Q1_Q3\n",
    "data = without_outlier_over_Q1_Q3(data, 'score')\n",
    "data.head(10)"
   ]
  },
  {
   "cell_type": "code",
   "execution_count": 6,
   "id": "2c246f41bec875e9",
   "metadata": {
    "collapsed": false,
    "jupyter": {
     "outputs_hidden": false
    }
   },
   "outputs": [
    {
     "data": {
      "text/plain": [
       "0                                  비전공자 마케터로 살아남기 2024년 04월\n",
       "1                              어쩌다 마케터를 위한 AI 활용법 2024년 04월\n",
       "2                         이모티콘 작가 되기 with 프로크리에이트 2024년 04월\n",
       "3                            챗GPT 프롬프트 120% 질문 기술 2024년 04월\n",
       "4                                  그림으로 이해하는 알고리즘 2024년 04월\n",
       "                                ...                        \n",
       "110479                               AutoCAD 2024 2024년 04월\n",
       "110480                       빅라플 ITQ MS Word 2021 2024년 04월\n",
       "110481    [세트] 직장인 1인의 몫 + 실무에 바로 쓰는 일잘러의 보고서 작성법 - 전2권 ...\n",
       "110482                         정보통신설비기준 선로설비기준 이해 2024년 04월\n",
       "110483                      시작해 C 언어 배열과 함수 (워크북) 2024년 04월\n",
       "Name: text, Length: 99838, dtype: object"
      ]
     },
     "execution_count": 6,
     "metadata": {},
     "output_type": "execute_result"
    }
   ],
   "source": [
    "from app.preprocessing import remove_stopwords\n",
    "\n",
    "data['record_date'] = data['record_date'].apply(lambda x: x.strftime('%Y년 %m월'))\n",
    "data['text'] = data['title'] + ' ' + data['record_date']\n",
    "data['text']"
   ]
  },
  {
   "cell_type": "code",
   "execution_count": 7,
   "id": "9660952afa4e66d5",
   "metadata": {
    "ExecuteTime": {
     "end_time": "2024-05-19T08:29:32.142220Z",
     "start_time": "2024-05-19T08:29:32.127151Z"
    },
    "collapsed": false,
    "jupyter": {
     "outputs_hidden": false
    }
   },
   "outputs": [],
   "source": [
    "data = data.dropna(subset=['text'])"
   ]
  },
  {
   "cell_type": "code",
   "execution_count": 10,
   "id": "3ce78a2dda2b441c",
   "metadata": {
    "ExecuteTime": {
     "end_time": "2024-05-19T08:29:32.164161Z",
     "start_time": "2024-05-19T08:29:32.143770Z"
    },
    "collapsed": false,
    "jupyter": {
     "outputs_hidden": false
    }
   },
   "outputs": [],
   "source": [
    "from app.preprocessing import word2vec_vectorize, text_to_vector\n",
    "\n",
    "X_, vectorizer = word2vec_vectorize(data, 'text', vector_size=5)"
   ]
  },
  {
   "cell_type": "code",
   "execution_count": 11,
   "id": "af5ed9a1-37fc-496c-b3e9-e319ad918f7f",
   "metadata": {},
   "outputs": [
    {
     "data": {
      "text/html": [
       "<div>\n",
       "<style scoped>\n",
       "    .dataframe tbody tr th:only-of-type {\n",
       "        vertical-align: middle;\n",
       "    }\n",
       "\n",
       "    .dataframe tbody tr th {\n",
       "        vertical-align: top;\n",
       "    }\n",
       "\n",
       "    .dataframe thead th {\n",
       "        text-align: right;\n",
       "    }\n",
       "</style>\n",
       "<table border=\"1\" class=\"dataframe\">\n",
       "  <thead>\n",
       "    <tr style=\"text-align: right;\">\n",
       "      <th></th>\n",
       "      <th>0</th>\n",
       "      <th>1</th>\n",
       "      <th>2</th>\n",
       "      <th>3</th>\n",
       "      <th>4</th>\n",
       "    </tr>\n",
       "  </thead>\n",
       "  <tbody>\n",
       "    <tr>\n",
       "      <th>0</th>\n",
       "      <td>0.918701</td>\n",
       "      <td>0.275527</td>\n",
       "      <td>-0.656989</td>\n",
       "      <td>-2.447692</td>\n",
       "      <td>2.462615</td>\n",
       "    </tr>\n",
       "    <tr>\n",
       "      <th>1</th>\n",
       "      <td>1.237711</td>\n",
       "      <td>-0.727338</td>\n",
       "      <td>0.070269</td>\n",
       "      <td>-1.433196</td>\n",
       "      <td>2.459824</td>\n",
       "    </tr>\n",
       "    <tr>\n",
       "      <th>2</th>\n",
       "      <td>-0.601680</td>\n",
       "      <td>0.819519</td>\n",
       "      <td>0.848226</td>\n",
       "      <td>-4.132896</td>\n",
       "      <td>-1.948080</td>\n",
       "    </tr>\n",
       "    <tr>\n",
       "      <th>3</th>\n",
       "      <td>0.715426</td>\n",
       "      <td>-1.372136</td>\n",
       "      <td>-0.146471</td>\n",
       "      <td>-2.756277</td>\n",
       "      <td>1.868628</td>\n",
       "    </tr>\n",
       "    <tr>\n",
       "      <th>4</th>\n",
       "      <td>2.238392</td>\n",
       "      <td>3.208333</td>\n",
       "      <td>-2.841100</td>\n",
       "      <td>-1.416600</td>\n",
       "      <td>2.724158</td>\n",
       "    </tr>\n",
       "    <tr>\n",
       "      <th>...</th>\n",
       "      <td>...</td>\n",
       "      <td>...</td>\n",
       "      <td>...</td>\n",
       "      <td>...</td>\n",
       "      <td>...</td>\n",
       "    </tr>\n",
       "    <tr>\n",
       "      <th>99833</th>\n",
       "      <td>3.975094</td>\n",
       "      <td>-3.361310</td>\n",
       "      <td>0.110514</td>\n",
       "      <td>-1.420707</td>\n",
       "      <td>-2.334311</td>\n",
       "    </tr>\n",
       "    <tr>\n",
       "      <th>99834</th>\n",
       "      <td>3.460990</td>\n",
       "      <td>-1.996819</td>\n",
       "      <td>-0.746453</td>\n",
       "      <td>-1.849135</td>\n",
       "      <td>-2.202195</td>\n",
       "    </tr>\n",
       "    <tr>\n",
       "      <th>99835</th>\n",
       "      <td>2.278747</td>\n",
       "      <td>-0.724860</td>\n",
       "      <td>0.682954</td>\n",
       "      <td>-1.339738</td>\n",
       "      <td>0.166170</td>\n",
       "    </tr>\n",
       "    <tr>\n",
       "      <th>99836</th>\n",
       "      <td>1.525413</td>\n",
       "      <td>-1.550675</td>\n",
       "      <td>0.585811</td>\n",
       "      <td>-1.137348</td>\n",
       "      <td>0.640365</td>\n",
       "    </tr>\n",
       "    <tr>\n",
       "      <th>99837</th>\n",
       "      <td>1.837335</td>\n",
       "      <td>2.726706</td>\n",
       "      <td>0.330333</td>\n",
       "      <td>0.033869</td>\n",
       "      <td>-0.260302</td>\n",
       "    </tr>\n",
       "  </tbody>\n",
       "</table>\n",
       "<p>99838 rows × 5 columns</p>\n",
       "</div>"
      ],
      "text/plain": [
       "              0         1         2         3         4\n",
       "0      0.918701  0.275527 -0.656989 -2.447692  2.462615\n",
       "1      1.237711 -0.727338  0.070269 -1.433196  2.459824\n",
       "2     -0.601680  0.819519  0.848226 -4.132896 -1.948080\n",
       "3      0.715426 -1.372136 -0.146471 -2.756277  1.868628\n",
       "4      2.238392  3.208333 -2.841100 -1.416600  2.724158\n",
       "...         ...       ...       ...       ...       ...\n",
       "99833  3.975094 -3.361310  0.110514 -1.420707 -2.334311\n",
       "99834  3.460990 -1.996819 -0.746453 -1.849135 -2.202195\n",
       "99835  2.278747 -0.724860  0.682954 -1.339738  0.166170\n",
       "99836  1.525413 -1.550675  0.585811 -1.137348  0.640365\n",
       "99837  1.837335  2.726706  0.330333  0.033869 -0.260302\n",
       "\n",
       "[99838 rows x 5 columns]"
      ]
     },
     "execution_count": 11,
     "metadata": {},
     "output_type": "execute_result"
    }
   ],
   "source": [
    "X = data['title'].apply(lambda s: text_to_vector(s, model=vectorizer, vector_size=vectorizer.vector_size))\n",
    "X = pd.DataFrame(X.tolist())\n",
    "X"
   ]
  },
  {
   "cell_type": "code",
   "execution_count": 12,
   "id": "114d687b-231e-459a-b852-f6aa26c03b9c",
   "metadata": {},
   "outputs": [],
   "source": [
    "vectorizer.save(\"book_title_word2vec.model\")"
   ]
  },
  {
   "cell_type": "code",
   "execution_count": 13,
   "id": "7c0a5b8c7b2b5749",
   "metadata": {
    "ExecuteTime": {
     "end_time": "2024-05-19T08:29:32.183006Z",
     "start_time": "2024-05-19T08:29:32.169210Z"
    },
    "collapsed": false,
    "jupyter": {
     "outputs_hidden": false
    }
   },
   "outputs": [],
   "source": [
    "# 판매 지수를 타겟 변수로 설정\n",
    "y = data['score']"
   ]
  },
  {
   "cell_type": "code",
   "execution_count": 14,
   "id": "3a3110bb-d52d-4fa9-822a-f3310851b81d",
   "metadata": {},
   "outputs": [
    {
     "data": {
      "text/html": [
       "<div>\n",
       "<style scoped>\n",
       "    .dataframe tbody tr th:only-of-type {\n",
       "        vertical-align: middle;\n",
       "    }\n",
       "\n",
       "    .dataframe tbody tr th {\n",
       "        vertical-align: top;\n",
       "    }\n",
       "\n",
       "    .dataframe thead th {\n",
       "        text-align: right;\n",
       "    }\n",
       "</style>\n",
       "<table border=\"1\" class=\"dataframe\">\n",
       "  <thead>\n",
       "    <tr style=\"text-align: right;\">\n",
       "      <th></th>\n",
       "      <th>0</th>\n",
       "    </tr>\n",
       "  </thead>\n",
       "  <tbody>\n",
       "    <tr>\n",
       "      <th>0</th>\n",
       "      <td>2024년</td>\n",
       "    </tr>\n",
       "    <tr>\n",
       "      <th>1</th>\n",
       "      <td>2023년</td>\n",
       "    </tr>\n",
       "    <tr>\n",
       "      <th>2</th>\n",
       "      <td>04월</td>\n",
       "    </tr>\n",
       "    <tr>\n",
       "      <th>3</th>\n",
       "      <td>05월</td>\n",
       "    </tr>\n",
       "    <tr>\n",
       "      <th>4</th>\n",
       "      <td>한</td>\n",
       "    </tr>\n",
       "    <tr>\n",
       "      <th>...</th>\n",
       "      <td>...</td>\n",
       "    </tr>\n",
       "    <tr>\n",
       "      <th>9057</th>\n",
       "      <td>Googlepedia</td>\n",
       "    </tr>\n",
       "    <tr>\n",
       "      <th>9058</th>\n",
       "      <td>디어</td>\n",
       "    </tr>\n",
       "    <tr>\n",
       "      <th>9059</th>\n",
       "      <td>글피</td>\n",
       "    </tr>\n",
       "    <tr>\n",
       "      <th>9060</th>\n",
       "      <td>Programmers</td>\n",
       "    </tr>\n",
       "    <tr>\n",
       "      <th>9061</th>\n",
       "      <td>몫</td>\n",
       "    </tr>\n",
       "  </tbody>\n",
       "</table>\n",
       "<p>9062 rows × 1 columns</p>\n",
       "</div>"
      ],
      "text/plain": [
       "                0\n",
       "0           2024년\n",
       "1           2023년\n",
       "2             04월\n",
       "3             05월\n",
       "4               한\n",
       "...           ...\n",
       "9057  Googlepedia\n",
       "9058           디어\n",
       "9059           글피\n",
       "9060  Programmers\n",
       "9061            몫\n",
       "\n",
       "[9062 rows x 1 columns]"
      ]
     },
     "execution_count": 14,
     "metadata": {},
     "output_type": "execute_result"
    }
   ],
   "source": [
    "pd.DataFrame(vectorizer.wv.index_to_key)"
   ]
  },
  {
   "cell_type": "code",
   "execution_count": 15,
   "id": "a4fa0baa-5c18-44fa-8486-20150a3c1c16",
   "metadata": {},
   "outputs": [
    {
     "data": {
      "text/plain": [
       "[('거만한', 0.9938002228736877),\n",
       " ('덮', 0.991077184677124),\n",
       " ('금속', 0.9899720549583435),\n",
       " ('전공자', 0.9824780821800232),\n",
       " ('양띵', 0.9801652431488037),\n",
       " ('눈높이', 0.9719191193580627),\n",
       " ('Tableau', 0.9708325266838074),\n",
       " ('자동', 0.9689276814460754),\n",
       " ('적용', 0.9648333787918091),\n",
       " ('아프리카', 0.9647519588470459)]"
      ]
     },
     "execution_count": 15,
     "metadata": {},
     "output_type": "execute_result"
    }
   ],
   "source": [
    "vectorizer.wv.most_similar('AI', topn=10)"
   ]
  },
  {
   "cell_type": "code",
   "execution_count": 18,
   "id": "ae52e08efa0aaf90",
   "metadata": {
    "ExecuteTime": {
     "end_time": "2024-05-19T08:29:32.203115Z",
     "start_time": "2024-05-19T08:29:32.188475Z"
    },
    "collapsed": false,
    "jupyter": {
     "outputs_hidden": false
    }
   },
   "outputs": [
    {
     "name": "stdout",
     "output_type": "stream",
     "text": [
      "Mean Squared Error: 8669.78\n",
      "R-squared: 0.94\n"
     ]
    }
   ],
   "source": [
    "from app.ml import random_forest_regressor\n",
    "\n",
    "model, mse, r2 = random_forest_regressor(X, y, 42)\n",
    "print(f\"Mean Squared Error: {mse:.2f}\")\n",
    "print(f\"R-squared: {r2:.2f}\")"
   ]
  },
  {
   "cell_type": "code",
   "execution_count": 19,
   "id": "1572c460-7266-4c73-b413-d22cbf38a5c9",
   "metadata": {},
   "outputs": [
    {
     "data": {
      "text/plain": [
       "['book_score_model.joblib']"
      ]
     },
     "execution_count": 19,
     "metadata": {},
     "output_type": "execute_result"
    }
   ],
   "source": [
    "from joblib import dump, load\n",
    "dump(model, 'book_score_model.joblib') "
   ]
  }
 ],
 "metadata": {
  "kernelspec": {
   "display_name": "Python 3 (ipykernel)",
   "language": "python",
   "name": "python3"
  },
  "language_info": {
   "codemirror_mode": {
    "name": "ipython",
    "version": 3
   },
   "file_extension": ".py",
   "mimetype": "text/x-python",
   "name": "python",
   "nbconvert_exporter": "python",
   "pygments_lexer": "ipython3",
   "version": "3.11.8"
  }
 },
 "nbformat": 4,
 "nbformat_minor": 5
}
